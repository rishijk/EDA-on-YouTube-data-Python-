{
 "cells": [
  {
   "cell_type": "markdown",
   "id": "df567a55-fba3-47fc-9fcc-8003785e8ea6",
   "metadata": {},
   "source": [
    "#### 1. Import required libraries and read the provided dataset (youtube_dislike_dataset.csv) and retrieve top\n",
    "5 and bottom 5 records.\n"
   ]
  },
  {
   "cell_type": "code",
   "execution_count": 19,
   "id": "a40558e4-0fb3-4149-a197-94d780f1e9b0",
   "metadata": {
    "tags": []
   },
   "outputs": [],
   "source": [
    "import numpy as np\n",
    "import pandas as pd\n",
    "import matplotlib.pyplot as plt\n",
    "%matplotlib inline\n",
    "import seaborn as sns"
   ]
  },
  {
   "cell_type": "code",
   "execution_count": 20,
   "id": "a67ce2c9-8529-4c56-9fac-7e051aa3ab92",
   "metadata": {
    "tags": []
   },
   "outputs": [],
   "source": [
    "data = pd.read_csv (\"youtube_dislike_dataset.csv\")"
   ]
  },
  {
   "cell_type": "code",
   "execution_count": 5,
   "id": "e2f0023d-5dd5-4ba7-8bb1-bdc8937c934d",
   "metadata": {
    "tags": []
   },
   "outputs": [
    {
     "name": "stdout",
     "output_type": "stream",
     "text": [
      "Top 5 records\n",
      "      video_id                                       title  \\\n",
      "0  --0bCF-iK2E        Jadon Sancho  Magical Skills & Goals   \n",
      "1  --14w5SOEUs          Migos - Avalanche (Official Video)   \n",
      "2  --40TEbZ9Is  Supporting Actress in a Comedy: 73rd Emmys   \n",
      "3  --4tfbSyYDE     JO1'YOUNG (JO1 ver.)' PERFORMANCE VIDEO   \n",
      "4  --DKkzWVh-E                Why Retaining Walls Collapse   \n",
      "\n",
      "                 channel_id          channel_title         published_at  \\\n",
      "0  UC6UL29enLNe4mqwTfAyeNuw             Bundesliga  2021-07-01 10:00:00   \n",
      "1  UCGIelM2Dj3zza3xyV3pL3WQ              MigosVEVO  2021-06-10 16:00:00   \n",
      "2  UClBKH8yZRcM4AsRjDVEdjMg     Television Academy  2021-09-20 01:03:32   \n",
      "3  UCsmXiDP8S40uBeJYxvyulmA                    JO1  2021-03-03 10:00:17   \n",
      "4  UCMOqf8ab-42UUQIdVoKwjlQ  Practical Engineering  2021-12-07 13:00:00   \n",
      "\n",
      "   view_count   likes  dislikes  comment_count  \\\n",
      "0     1048888   19515       226           1319   \n",
      "1    15352638  359277      7479          18729   \n",
      "2      925281   11212       401            831   \n",
      "3     2641597   39131       441           3745   \n",
      "4      715724   32887       367           1067   \n",
      "\n",
      "                                                tags  \\\n",
      "0  football soccer ftbol alemn Bundesliga season ...   \n",
      "1  Migos Avalanche Quality Control Music/Motown R...   \n",
      "2                                                      \n",
      "3  PRODUCE101JAPAN              JO1   TheSTAR STA...   \n",
      "4  retaining wall New Jersey highway Direct Conne...   \n",
      "\n",
      "                                         description  \\\n",
      "0  Enjoy the best skills and goals from Jadon San...   \n",
      "1  Watch the the official video for Migos - \"Aval...   \n",
      "2  Hannah Waddingham wins the Emmy for Supporting...   \n",
      "3  JO1'YOUNG (JO1 ver.)' PERFORMANCE VIDEO\\n\\n---...   \n",
      "4  One of the most important (and innocuous) part...   \n",
      "\n",
      "                                            comments  \n",
      "0  Respect to Dortmund fans,must be sad losing hi...  \n",
      "1  Migos just makes me want to live my live to th...  \n",
      "2  Hannah's energy bursts through any screen. Wel...  \n",
      "3  youngVer><  REN is really PERFECT. It's not ju...  \n",
      "4   Keep up with all my projects here: https://pr...  \n"
     ]
    }
   ],
   "source": [
    "## Retrieve the top 5 records\n",
    "top_5 = data.head(5)\n",
    "print (\"Top 5 records\")\n",
    "print (top_5)"
   ]
  },
  {
   "cell_type": "code",
   "execution_count": 8,
   "id": "9b28476e-d988-45f6-92c3-6ee2cd7a2803",
   "metadata": {
    "tags": []
   },
   "outputs": [
    {
     "name": "stdout",
     "output_type": "stream",
     "text": [
      "Bottom 5 records\n",
      "          video_id                                              title  \\\n",
      "37417  zzd4ydafGR0  Lil Tjay - Calling My Phone (feat. 6LACK) [Off...   \n",
      "37418  zziBybeSAtw  PELICANS at LAKERS | FULL GAME HIGHLIGHTS | Ja...   \n",
      "37419  zzk09ESX7e0                 [MV]  (MAMAMOO) - Where Are We Now   \n",
      "37420  zzmQEb0Em5I              FELLIPE ESCUDERO- Master Podcast  #12   \n",
      "37421  zzxPZwaA-8w  Gareth Bale brace secures dramatic comeback on...   \n",
      "\n",
      "                     channel_id      channel_title         published_at  \\\n",
      "37417  UCEB4a5o_6KfjxHwNMnmj54Q           Lil Tjay  2021-02-12 05:03:49   \n",
      "37418  UCWJ2lWNubArHWmf3FIHbfcQ                NBA  2021-01-16 05:39:05   \n",
      "37419  UCuhAUMLzJxlP1W7mEk0_6lA            MAMAMOO  2021-06-02 09:00:10   \n",
      "37420  UC8NjnNWMsRqq11NYvHAQb1g     Master Podcast  2020-10-20 20:59:30   \n",
      "37421  UCEg25rdRZXg32iwai6N6l0w  Tottenham Hotspur  2021-05-23 21:00:31   \n",
      "\n",
      "       view_count    likes  dislikes  comment_count  \\\n",
      "37417   120408275  2180780     35871          81360   \n",
      "37418     2841917    20759      1049           2624   \n",
      "37419    13346678   720854      4426          90616   \n",
      "37420      252057    19198      1234           1471   \n",
      "37421     2252090    34063       868           2004   \n",
      "\n",
      "                                                    tags  \\\n",
      "37417  Lil Tjay Steady Calling My Phone Calling My Ph...   \n",
      "37418  NBA G League Basketball game-0022000187 Lakers...   \n",
      "37419  MAMAMOO  WAW  WAW MAMAMOO WAW Where Are We Now...   \n",
      "37420  master masterpodcast lord lord vinheteiro z z ...   \n",
      "37421  Spurs Tottenham Hotspur   Tottenham Leicester ...   \n",
      "\n",
      "                                             description  \\\n",
      "37417  Official video for \"Calling My Phone\" by Lil T...   \n",
      "37418  PELICANS at LAKERS | FULL GAME HIGHLIGHTS | Ja...   \n",
      "37419  [MV]  (MAMAMOO) - Where Are We Now\\n\\nInstagra...   \n",
      "37420  DOCTOR HAIR\\nhttps://www.thedoctorhair.com/?fb...   \n",
      "37421  Two minute highlights from Tottenham Hotspur's...   \n",
      "\n",
      "                                                comments  \n",
      "37417  'DESTINED 2 WIN' OUT NOW !! https://liltjay.ln...  \n",
      "37418  Montrezl Harrell is going crazy with the rebou...  \n",
      "37419  I honestly do not know why this song hit so ha...  \n",
      "37420  Foi um prazer passar esta tarde com vocs debat...  \n",
      "37421  Thank you Kane for everything you have given t...  \n"
     ]
    }
   ],
   "source": [
    "## Retrieve the bottom 5 records\n",
    "bottom_5 = data.tail(5)\n",
    "print (\"Bottom 5 records\")\n",
    "print (bottom_5)"
   ]
  },
  {
   "cell_type": "markdown",
   "id": "d5898474-19ad-4834-a31b-90d9e0898503",
   "metadata": {},
   "source": [
    "#### 2 Check the info of the dataframe and write your inferences on data types and shape of the dataset.\n"
   ]
  },
  {
   "cell_type": "code",
   "execution_count": 9,
   "id": "140e6e8d-8749-4c1b-9d85-bfbe6f3b9f26",
   "metadata": {
    "tags": []
   },
   "outputs": [
    {
     "name": "stdout",
     "output_type": "stream",
     "text": [
      "Info of the dataframe\n",
      "<class 'pandas.core.frame.DataFrame'>\n",
      "RangeIndex: 37422 entries, 0 to 37421\n",
      "Data columns (total 12 columns):\n",
      " #   Column         Non-Null Count  Dtype \n",
      "---  ------         --------------  ----- \n",
      " 0   video_id       37422 non-null  object\n",
      " 1   title          37422 non-null  object\n",
      " 2   channel_id     37422 non-null  object\n",
      " 3   channel_title  37422 non-null  object\n",
      " 4   published_at   37422 non-null  object\n",
      " 5   view_count     37422 non-null  int64 \n",
      " 6   likes          37422 non-null  int64 \n",
      " 7   dislikes       37422 non-null  int64 \n",
      " 8   comment_count  37422 non-null  int64 \n",
      " 9   tags           37422 non-null  object\n",
      " 10  description    37422 non-null  object\n",
      " 11  comments       37264 non-null  object\n",
      "dtypes: int64(4), object(8)\n",
      "memory usage: 3.4+ MB\n",
      "None\n"
     ]
    }
   ],
   "source": [
    "print (\"Info of the dataframe\")\n",
    "print (data.info())"
   ]
  },
  {
   "cell_type": "code",
   "execution_count": 12,
   "id": "eea7dbb2-c507-487f-b055-adc2457c0031",
   "metadata": {
    "tags": []
   },
   "outputs": [
    {
     "name": "stdout",
     "output_type": "stream",
     "text": [
      "shape of the dataframe\n",
      "(37422, 12)\n"
     ]
    }
   ],
   "source": [
    "print (\"shape of the dataframe\")\n",
    "print (data.shape)"
   ]
  },
  {
   "cell_type": "markdown",
   "id": "acb649c1-c20c-4b82-8e50-850e06bd8df1",
   "metadata": {},
   "source": [
    "### 3. Check for the Percentage of the missing values and drop or impute them"
   ]
  },
  {
   "cell_type": "code",
   "execution_count": 13,
   "id": "c693bdd9-c305-4cba-afbe-b8583f3db245",
   "metadata": {
    "tags": []
   },
   "outputs": [
    {
     "name": "stdout",
     "output_type": "stream",
     "text": [
      "Percentage of missing values\n",
      "video_id         0.000000\n",
      "title            0.000000\n",
      "channel_id       0.000000\n",
      "channel_title    0.000000\n",
      "published_at     0.000000\n",
      "view_count       0.000000\n",
      "likes            0.000000\n",
      "dislikes         0.000000\n",
      "comment_count    0.000000\n",
      "tags             0.000000\n",
      "description      0.000000\n",
      "comments         0.422212\n",
      "dtype: float64\n"
     ]
    }
   ],
   "source": [
    "missing_percentage = data.isnull().mean() *100\n",
    "print (\"Percentage of missing values\")\n",
    "print (missing_percentage)"
   ]
  },
  {
   "cell_type": "code",
   "execution_count": 14,
   "id": "1d1c6179-8445-4552-a96f-ffefb84f1a00",
   "metadata": {
    "tags": []
   },
   "outputs": [],
   "source": [
    "data.dropna (inplace = True)"
   ]
  },
  {
   "cell_type": "code",
   "execution_count": null,
   "id": "1f4d1d60-9b21-4991-bcb9-4b277b7f1f20",
   "metadata": {
    "tags": []
   },
   "outputs": [],
   "source": [
    "data.fillna(data.mean(), inplace = True)"
   ]
  },
  {
   "cell_type": "code",
   "execution_count": null,
   "id": "88bb27bf-95c9-4992-9b13-db75393fd575",
   "metadata": {
    "tags": []
   },
   "outputs": [],
   "source": [
    "missing_percentage = data.isnull().mean() *100\n",
    "print (\"Percentage of missing values\")\n",
    "print (missing_percentage)"
   ]
  },
  {
   "cell_type": "markdown",
   "id": "7edaead7-7cea-4051-8204-be35a7701729",
   "metadata": {},
   "source": [
    "### 4 Check the statistical summary of both numerical and categorical columns and write your inferences.\n"
   ]
  },
  {
   "cell_type": "code",
   "execution_count": null,
   "id": "b6d29b22-d484-42fc-bd51-cb923414a9b2",
   "metadata": {
    "tags": []
   },
   "outputs": [],
   "source": [
    "### For Numerical Columns\n",
    "print (\"Statistical summary of numerical columns\")\n",
    "print (data.describe())"
   ]
  },
  {
   "cell_type": "code",
   "execution_count": null,
   "id": "cd25a5ee-01d1-482b-aba5-a3bc8ef8cfc0",
   "metadata": {
    "tags": []
   },
   "outputs": [],
   "source": [
    "### For Categorical Columns\n",
    "print (\"\\nStatistical summary of categorical columns\")\n",
    "print (data.describe(include = \"object\"))"
   ]
  },
  {
   "cell_type": "code",
   "execution_count": null,
   "id": "87686904-8657-446d-8dc8-97c31ce71dd9",
   "metadata": {},
   "outputs": [],
   "source": [
    "### Inferences\n",
    "a) For Numerical columns: The statistical summary includes count,mean,standard deviation,minimum, (Q1),(Q2), 75th percentile (Q3)\n",
    "and maximum values. This Provides insights into the central tendency, dispersion, and distribution of numerical data.\n",
    "\n",
    "b) For Categorical Columns: The statistical summary includes count,unique,top (most frequent values), and frequency of the top values.\n",
    "This provides insights into the disribution of categorical data, including the most common values categories and \n",
    "their frequencies."
   ]
  },
  {
   "cell_type": "markdown",
   "id": "81450f7a-85ba-4aaf-bb8c-265189a6357e",
   "metadata": {},
   "source": [
    "### 5. Convert datatype of column published_at from object to pandas datetime."
   ]
  },
  {
   "cell_type": "code",
   "execution_count": 6,
   "id": "a1f74e3a-f4da-452d-89af-49484ae1de76",
   "metadata": {
    "tags": []
   },
   "outputs": [],
   "source": [
    "data [\"published_at\"] = pd.to_datetime(data[\"published_at\"])"
   ]
  },
  {
   "cell_type": "markdown",
   "id": "7528d1c7-19a6-49f6-b646-973e803a9974",
   "metadata": {},
   "source": [
    "### 6. Create a new column as 'published_month' using the column published_at (display the months only)"
   ]
  },
  {
   "cell_type": "code",
   "execution_count": null,
   "id": "0f26e628-f324-49fb-af7a-2048d7b08f11",
   "metadata": {
    "tags": []
   },
   "outputs": [],
   "source": [
    "data [\"published_month\"] = data[\"published_at\"].dt.month"
   ]
  },
  {
   "cell_type": "markdown",
   "id": "8071000f-2bcc-4f11-9818-ff8e8cf23a5c",
   "metadata": {},
   "source": [
    "### 7. Replace the numbers in the column published_month as names of the months i,e., 1 as 'Jan', 2 as 'Feb'\n",
    "and so on....."
   ]
  },
  {
   "cell_type": "code",
   "execution_count": 8,
   "id": "aeacc1c8-9f76-4d6f-be01-d4e1758ee1b1",
   "metadata": {
    "tags": []
   },
   "outputs": [],
   "source": [
    "data = pd.read_csv (\"youtube_dislike_dataset.csv\")"
   ]
  },
  {
   "cell_type": "code",
   "execution_count": null,
   "id": "abe93b83-4f98-45b3-a243-9523fce0548c",
   "metadata": {
    "tags": []
   },
   "outputs": [],
   "source": [
    "data [\"published_month\"] = data[\"published_month\"].map(month_names)"
   ]
  },
  {
   "cell_type": "markdown",
   "id": "b051cf63-7e11-499e-a9cd-525b7c5424d4",
   "metadata": {},
   "source": [
    "### 8. Find the number of videos published each month and arrange the months in a decreasing order based\n",
    "on the video count"
   ]
  },
  {
   "cell_type": "code",
   "execution_count": null,
   "id": "48ae4f6e-6361-4c0f-a4b0-7ee60cb1cbf6",
   "metadata": {
    "tags": []
   },
   "outputs": [],
   "source": [
    "video_counts = data[\"published_month\"].value_counts()\n",
    "### Sort the counts in decreasing order\n",
    "\n",
    "video_counts_sorted = video_counts._sort_values(ascending = False)\n",
    "\n",
    "### Display The sorted counts\n",
    "\n",
    "print (\"Number of videos published each month in descending order\")\n",
    "print (video_counts_sorted)"
   ]
  },
  {
   "cell_type": "markdown",
   "id": "ab67e6a5-a572-44de-a0a2-b35705514ae7",
   "metadata": {},
   "source": [
    "### 9. Find the count of unique video_id, channel_id and channel_title."
   ]
  },
  {
   "cell_type": "code",
   "execution_count": 22,
   "id": "32cf3773-d355-4edb-8d26-372ff8c72386",
   "metadata": {
    "tags": []
   },
   "outputs": [
    {
     "name": "stdout",
     "output_type": "stream",
     "text": [
      "Count of unique video_id: 37422\n",
      "Count of unique channel_id 10961\n",
      "Count of unique channel_title 10883\n"
     ]
    }
   ],
   "source": [
    "### Count of unique video_id\n",
    "unique_video_id_count = data[\"video_id\"].nunique()\n",
    "\n",
    "### Count of unique channel_id\n",
    "unique_channel_id_count = data[\"channel_id\"].nunique()\n",
    "\n",
    "### Count of unique channel_title\n",
    "unique_channel_title_count = data[\"channel_title\"].nunique()\n",
    "\n",
    "\n",
    "### Printing the results\n",
    "\n",
    "print(\"Count of unique video_id:\", unique_video_id_count)\n",
    "print(\"Count of unique channel_id\",unique_channel_id_count)\n",
    "print(\"Count of unique channel_title\",unique_channel_title_count)"
   ]
  },
  {
   "cell_type": "markdown",
   "id": "596edb19-d1c9-46a4-95b3-44735cd1017d",
   "metadata": {},
   "source": [
    "### 10. Find the top10 channel names having the highest number of videos in the dataset and the bottom10\n",
    "having lowest number of videos."
   ]
  },
  {
   "cell_type": "code",
   "execution_count": 26,
   "id": "2adacd4a-7188-46e6-b9ac-ac2d172788f6",
   "metadata": {
    "tags": []
   },
   "outputs": [
    {
     "name": "stdout",
     "output_type": "stream",
     "text": [
      "Top 10 channels with the highest number of videos\n",
      "channel_title\n",
      "Sky Sports Football    533\n",
      "The United Stand       301\n",
      "BT Sport               246\n",
      "NBA                    209\n",
      "NFL                    162\n",
      "WWE                    122\n",
      "SSSniperWolf            99\n",
      "SSundee                 98\n",
      "FORMULA 1               87\n",
      "NHL                     86\n",
      "Name: count, dtype: int64\n",
      "Bottom 10 channels with the lowest number of videos\n",
      "channel_title\n",
      "Eiaz                     1\n",
      "adidas                   1\n",
      "Universitetet i Agder    1\n",
      "Team Tapia               1\n",
      "TheVincentMottola        1\n",
      "Blocktrainer             1\n",
      "Movie Addicts            1\n",
      "1 1 minute mom           1\n",
      "FLORIN CERCEL            1\n",
      "Master Podcast           1\n",
      "Name: count, dtype: int64\n"
     ]
    }
   ],
   "source": [
    "### Count the number of videos for each channel\n",
    "channel_video_counts = data[\"channel_title\"].value_counts()\n",
    "\n",
    "### Finding the top 10 channels with the highest number of videos\n",
    "top_10_channels = channel_video_counts.head(10)\n",
    "\n",
    "### Finding the bottom 10 channels with the lowest number of videos\n",
    "bottom_10_channels = channel_video_counts.tail(10)\n",
    "\n",
    "### Printing the Results\n",
    "print (\"Top 10 channels with the highest number of videos\")\n",
    "print (top_10_channels)\n",
    "\n",
    "print (\"Bottom 10 channels with the lowest number of videos\")\n",
    "print (bottom_10_channels)\n"
   ]
  },
  {
   "cell_type": "markdown",
   "id": "48dfb389-d3df-4341-bde0-52ab98e787e5",
   "metadata": {},
   "source": [
    "### 11. Find the title of the video which has the maximum number of likes and the title of the video having\n",
    "minimum likes and write your inferences.\n"
   ]
  },
  {
   "cell_type": "code",
   "execution_count": 31,
   "id": "76531a51-8cb0-413f-9c1b-9edfb4e63762",
   "metadata": {
    "tags": []
   },
   "outputs": [
    {
     "name": "stdout",
     "output_type": "stream",
     "text": [
      "Title of the video with the maximum number of likes BTS () 'Dynamite' Official MV\n",
      "Title of the video with the minimum number of likes Kim Kardashian's Must-See Moments on \"Saturday Night Live\" | E! News\n"
     ]
    }
   ],
   "source": [
    "### Find the title of the video with the maximum number of likes\n",
    "max_likes_title = data.loc[data[\"likes\"].idxmax()][\"title\"]\n",
    "\n",
    "### Find the title of the video with minimum number of likes\n",
    "min_likes_title = data.loc[data[\"likes\"].idxmin()][\"title\"]\n",
    "                           \n",
    "### Printing the results\n",
    "\n",
    "print (\"Title of the video with the maximum number of likes\",max_likes_title)\n",
    "print (\"Title of the video with the minimum number of likes\",min_likes_title)"
   ]
  },
  {
   "cell_type": "code",
   "execution_count": null,
   "id": "42636513-57d5-49e7-8388-4a245721aa17",
   "metadata": {},
   "outputs": [],
   "source": [
    "### Inferences\n",
    "The video with the maximum number of likes strongly with the audience, perhaps due \n",
    "to its premimum content, relevance or popularity.\n",
    "\n",
    "The video with the minimum number of likes may have received less attention from viewers compared to\n",
    "other videos in the dataset. This could be due to various factors such as content quality, timing or audiance\n",
    "preferences."
   ]
  },
  {
   "cell_type": "markdown",
   "id": "8d2e82df-5ca4-4db4-9ea0-24bf895f289e",
   "metadata": {},
   "source": [
    "### 12. Find the title of the video which has the maximum number of dislikes and the title of the video having\n",
    "minimum dislikes and write your inferences."
   ]
  },
  {
   "cell_type": "code",
   "execution_count": 33,
   "id": "22858e58-cdd8-4595-ba3b-6faef60e8c43",
   "metadata": {
    "tags": []
   },
   "outputs": [
    {
     "name": "stdout",
     "output_type": "stream",
     "text": [
      "Title of the video with the maximum number of likes Cuties | Official Trailer | Netflix\n",
      "Title of the video with the minimum number of likes Kim Kardashian's Must-See Moments on \"Saturday Night Live\" | E! News\n"
     ]
    }
   ],
   "source": [
    "### Find the title of the video with the maximum number of dislikes\n",
    "max_dislikes_title = data.loc[data[\"dislikes\"].idxmax()][\"title\"]\n",
    "\n",
    "### Find the title of the video with minimum number of dislikes\n",
    "min_dislikes_title = data.loc[data[\"dislikes\"].idxmin()][\"title\"]\n",
    "\n",
    "### Printing the results\n",
    "\n",
    "print (\"Title of the video with the maximum number of likes\",max_dislikes_title)\n",
    "print (\"Title of the video with the minimum number of likes\",min_dislikes_title)\n",
    "                           "
   ]
  },
  {
   "cell_type": "code",
   "execution_count": null,
   "id": "afa8f439-ea44-400c-b226-9fd61f625d47",
   "metadata": {},
   "outputs": [],
   "source": [
    "### Inferences\n",
    "The video with the maximum number of dislikes might have controversial content or may have been poorly\n",
    "received by the audience.\n",
    "\n",
    "The video with the minimum number of dislikes likely received positive feedback from viewers or didn't\n",
    "provoke strong negative reactions."
   ]
  },
  {
   "cell_type": "markdown",
   "id": "bfe72a77-e3c8-4630-b679-5a13c66947ad",
   "metadata": {},
   "source": [
    "### 13. Does the number of views have any effect on how many people disliked the video? Support your\n",
    "answer with a metric and a plot."
   ]
  },
  {
   "cell_type": "code",
   "execution_count": null,
   "id": "3fd6451e-11ba-44b0-8548-a2dc11547fda",
   "metadata": {
    "tags": []
   },
   "outputs": [],
   "source": [
    "## Yes, the number of views can have an effect on how many people disliked the video. We can support this with a metric called the \n",
    "## Pearson correlation coefficient and a scatter plot."
   ]
  },
  {
   "cell_type": "code",
   "execution_count": null,
   "id": "e4a25d40-88b8-4384-9193-7b85340465e5",
   "metadata": {},
   "outputs": [],
   "source": [
    "## Person correlation coefficient measures the strength and direction of the linear relationship\n",
    "## between two variables. If the coefficient is close to 1 or -1 it indicates a strong positive\n",
    "## or negative correlation, respectively.If its close to 0, it indicates no significant correlation."
   ]
  },
  {
   "cell_type": "code",
   "execution_count": null,
   "id": "8cc7b1b0-0204-4928-b149-5e4fbe1eb4dd",
   "metadata": {},
   "outputs": [],
   "source": [
    "# Scatter Plot visually represents the relationship between the number of views and the dislike ratio\n",
    "# for each video.If there's discernible pattern in the plot,it suggestsa relationship between\n",
    "# the variables."
   ]
  },
  {
   "cell_type": "code",
   "execution_count": 38,
   "id": "161a07a4-3304-4108-8254-6cf3ea819d14",
   "metadata": {
    "tags": []
   },
   "outputs": [
    {
     "data": {
      "image/png": "[encoded data removed]",
      "text/plain": [
       "<Figure size 640x480 with 1 Axes>"
      ]
     },
     "metadata": {},
     "output_type": "display_data"
    },
    {
     "name": "stdout",
     "output_type": "stream",
     "text": [
      "Pearson correlation coefficient between views and dislike ratio -0.006693975828597462\n"
     ]
    }
   ],
   "source": [
    "### Calculate The Dislike  Ratio\n",
    "data[\"dislike_ratio\"] = data[\"dislikes\"] / data[\"view_count\"]\n",
    "\n",
    "### Calculate the Pearson correlation coefficient\n",
    "correlation = data[\"view_count\"].corr(data[\"dislike_ratio\"])\n",
    "\n",
    "### Plot a scatter plot\n",
    "import matplotlib.pyplot as plt\n",
    "plt.scatter(data[\"view_count\"], data[\"dislike_ratio\"])\n",
    "plt.xlabel(\"Number of views\")\n",
    "plt.ylabel(\"Dislike Ratio\")\n",
    "plt.title(\"Relationship between Number of views and Dislike Ratio\")\n",
    "plt.show()\n",
    "\n",
    "### Print the correlation coefficient\n",
    "print (\"Pearson correlation coefficient between views and dislike ratio\",correlation)"
   ]
  },
  {
   "cell_type": "code",
   "execution_count": null,
   "id": "7923c788-9b30-4e79-8e92-7a70a77e7e75",
   "metadata": {},
   "outputs": [],
   "source": [
    "### Inferences\n",
    "# The Pearson correlation coefficient between the number of views and the dislike ratio is\n",
    "# approximately -0.0067, which is close to 0, it suggests that there is no significant\n",
    "# linear relationship between the two variables.\n",
    "\n",
    "# The scatter plot, when visualized, would also show a scattered pattern without any clear trend or\n",
    "# direction.This further supports the inference that there is no discernible relationship between the number of\n",
    "# views and the dislike ratio."
   ]
  },
  {
   "cell_type": "markdown",
   "id": "1ac7da08-5f9f-438d-ac90-263a8cc794ec",
   "metadata": {},
   "source": [
    "### 14. Display all the information about the videos that were published in January, and mention the count of\n",
    "videos that were published in January"
   ]
  },
  {
   "cell_type": "code",
   "execution_count": 50,
   "id": "1f3e69d0-bc46-4d6e-8654-a8c5ce4be45b",
   "metadata": {
    "tags": []
   },
   "outputs": [
    {
     "name": "stdout",
     "output_type": "stream",
     "text": [
      "Information about videos published in January\n",
      "          video_id                                              title  \\\n",
      "27     -2Gwm7QfBnE                                    Q&A With Naisha   \n",
      "48     -4sfXSHSxzA           SURPRISING BRENT WITH HIS TIKTOK CRUSH!!   \n",
      "95     -AJD1Fc5rpQ  WE ARE HAVING A BABY! | finding out i'm pregna...   \n",
      "103    -AuJiwjsmWk              Do Ugly Foods Taste Worse? Taste Test   \n",
      "182    -JhqO2KWr5U                                   Schlatt gets fit   \n",
      "...            ...                                                ...   \n",
      "37300  zmzFL5bG-jc  DEVINE MON PERSONNAGE AVANT AKINATOR ! (c'est ...   \n",
      "37329  zpzjex7qwrA  Lampard Sacked Within Days Rorys Misery | Chel...   \n",
      "37345  zqyv-B6mnBM                 Lil Wayne - Ain't Got Time (Audio)   \n",
      "37383  zwfu1-24T7Q  PRADA Cup Day 1 | Full Race Replay | PRADA Cup...   \n",
      "37418  zziBybeSAtw  PELICANS at LAKERS | FULL GAME HIGHLIGHTS | Ja...   \n",
      "\n",
      "                     channel_id       channel_title        published_at  \\\n",
      "27     UCYwNMbogQFzMccPSuy-pPWg           MianTwins 2021-01-21 00:05:47   \n",
      "48     UCPpATKqmMV-CNRNWYaDUwiA        Alexa Rivera 2021-01-16 21:40:04   \n",
      "95     UCVsTboAhpnuL6j-tDePvNwQ      Tess Christine 2021-01-03 21:53:48   \n",
      "103    UCzpCc5n9hqiVC7HhPwcIKEg  Good Mythical MORE 2021-01-19 11:00:01   \n",
      "182    UCWZp4y1jqBuvLtiyxSs_ZBw             Big guy 2021-01-24 22:50:57   \n",
      "...                         ...                 ...                 ...   \n",
      "37300  UCIlr3byh6wmXgcPx_Tm9Ocw             Piwerre 2021-01-16 16:12:19   \n",
      "37329  UCkD-ZOixI0a9FjIExDsHsbg        The Kick Off 2021-01-03 20:13:49   \n",
      "37345  UCO9zJy7HWrIS3ojB4Lr7Yqw           Lil Wayne 2021-01-21 05:00:10   \n",
      "37383  UCo15ZYO_XDRU9LI30OPtxAg       America's Cup 2021-01-15 04:07:55   \n",
      "37418  UCWJ2lWNubArHWmf3FIHbfcQ                 NBA 2021-01-16 05:39:05   \n",
      "\n",
      "       view_count   likes  dislikes  comment_count  \\\n",
      "27         872372   38626       239            621   \n",
      "48        6504784  262477      5779           7907   \n",
      "95         533084   38965       119           1650   \n",
      "103       1057077   22526       531            773   \n",
      "182       1724965  119431       325           1578   \n",
      "...           ...     ...       ...            ...   \n",
      "37300      670357   54462       832           1249   \n",
      "37329      428646   12060       296           1505   \n",
      "37345     2238244   58925      2365           5539   \n",
      "37383      317382    2008        83            192   \n",
      "37418     2841917   20759      1049           2624   \n",
      "\n",
      "                                                    tags  \\\n",
      "27                                                         \n",
      "48                                                         \n",
      "95                                                         \n",
      "103    gmm good mythical morning rhettandlink rhett a...   \n",
      "182    jschlatt big guy jschlatt highlights schlatt j...   \n",
      "...                                                  ...   \n",
      "37300  Piwerre frere de michou crouton among us devin...   \n",
      "37329  Premier league Chelsea chelsea 1-3 Man City Ch...   \n",
      "37345  lil wayne weezy weezy wednesday wayne carter y...   \n",
      "37383  America's Cup Americas Cup AC36 AC75 Presented...   \n",
      "37418  NBA G League Basketball game-0022000187 Lakers...   \n",
      "\n",
      "                                             description  \\\n",
      "27     Hey Guys!!! this has been the most requested v...   \n",
      "48     He had no idea! Thank you guys so much for wat...   \n",
      "95     I am so happy to tell you that I am pregnant!!...   \n",
      "103    Today, we're doing a blind taste test to deter...   \n",
      "182                    #jschlatt #schlatt #bigguy #short   \n",
      "...                                                  ...   \n",
      "37300   Discord Piwerre : https://discord.gg/QBduPgAA...   \n",
      "37329  The Kick Off watched Manchester City destroy C...   \n",
      "37345  Official audio for Lil Wayne \"Ain't Got Time\",...   \n",
      "37383  The opening day of the PRADA Cup in Auckland, ...   \n",
      "37418  PELICANS at LAKERS | FULL GAME HIGHLIGHTS | Ja...   \n",
      "\n",
      "                                                comments  dislike_ratio  \n",
      "27     I feel like Nate and Aishas personality match ...       0.000274  \n",
      "48     Thank you guys for watching and don't forget t...       0.000888  \n",
      "95     Okay I needed a moment to collect my thoughts ...       0.000223  \n",
      "103    \"there's nothing wrong with it being bent\"\\nI ...       0.000502  \n",
      "182    Schlatt is single handedly wiping out all the ...       0.000188  \n",
      "...                                                  ...            ...  \n",
      "37300  Mdr michou quand c'est pas ses tournage il fou...       0.001241  \n",
      "37329  True Its like a fighter who Geordie But I thou...       0.000691  \n",
      "37345  RIP Juice Wrld, wrote that on two cups, pour o...       0.001057  \n",
      "37383  Incredible how these boats evolve in a short t...       0.000262  \n",
      "37418  Montrezl Harrell is going crazy with the rebou...       0.000369  \n",
      "\n",
      "[2108 rows x 13 columns]\n",
      "Count of videos published in January 2108\n"
     ]
    }
   ],
   "source": [
    "### Convert \"published_at\" column to datetime if it's not already in datetime format\n",
    "data[\"published_at\"] = pd.to_datetime(data[\"published_at\"])\n",
    "\n",
    "### Filtering videos published in January\n",
    "january_videos = data[data[\"published_at\"].dt.month == 1]\n",
    "\n",
    "### Display All information about January videos\n",
    "\n",
    "print (\"Information about videos published in January\")\n",
    "print (january_videos)\n",
    "\n",
    "### Mention the count of videos published in January\n",
    "january_videos_count = january_videos.shape[0]\n",
    "print (\"Count of videos published in January\",january_videos_count)"
   ]
  },
  {
   "cell_type": "code",
   "execution_count": null,
   "id": "3892f39b-9e9c-42d5-9e45-af7bcc7b94f4",
   "metadata": {},
   "outputs": [],
   "source": []
  }
 ],
 "metadata": {
  "kernelspec": {
   "display_name": "Python 3 (ipykernel)",
   "language": "python",
   "name": "python3"
  },
  "language_info": {
   "codemirror_mode": {
    "name": "ipython",
    "version": 3
   },
   "file_extension": ".py",
   "mimetype": "text/x-python",
   "name": "python",
   "nbconvert_exporter": "python",
   "pygments_lexer": "ipython3",
   "version": "3.11.5"
  }
 },
 "nbformat": 4,
 "nbformat_minor": 5
}
